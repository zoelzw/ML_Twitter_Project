{
  "nbformat": 4,
  "nbformat_minor": 0,
  "metadata": {
    "colab": {
      "name": "DataPrep.ipynb",
      "provenance": [],
      "toc_visible": true,
      "authorship_tag": "ABX9TyPCIuGQ7+9FBBJy3pSyfZ9q"
    },
    "kernelspec": {
      "name": "python3",
      "display_name": "Python 3"
    }
  },
  "cells": [
    {
      "cell_type": "markdown",
      "metadata": {
        "id": "cEDvNM9th3Ni"
      },
      "source": [
        "# Load Libraries \n"
      ]
    },
    {
      "cell_type": "code",
      "metadata": {
        "id": "HkQV4sA8hDus"
      },
      "source": [
        "import nltk  # for text manipulation \n",
        "import string \n",
        "import warnings \n",
        "import numpy as np \n",
        "import pandas as pd \n",
        "import seaborn as sns \n",
        "import matplotlib.pyplot as plt  \n",
        "\n",
        "pd.set_option(\"display.max_colwidth\", 200) \n",
        "warnings.filterwarnings(\"ignore\", category=DeprecationWarning) \n",
        "\n",
        "%matplotlib inline"
      ],
      "execution_count": 2,
      "outputs": []
    },
    {
      "cell_type": "markdown",
      "metadata": {
        "id": "YX-WKLAAh0Gp"
      },
      "source": [
        "# Load Data\n",
        "## label 0 = non racist nor sexist content; label 1 = racist or sexist content"
      ]
    },
    {
      "cell_type": "code",
      "metadata": {
        "id": "3TIFzFmBiHml"
      },
      "source": [
        "train  = pd.read_csv('train_tweets.csv') \n",
        "test = pd.read_csv('test_tweets.csv')"
      ],
      "execution_count": 4,
      "outputs": []
    }
  ]
}